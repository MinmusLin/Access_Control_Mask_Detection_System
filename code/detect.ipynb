{
 "cells": [
  {
   "cell_type": "code",
   "execution_count": null,
   "metadata": {},
   "outputs": [],
   "source": [
    "# Detect demo image\n",
    "\n",
    "from ultralytics import YOLO\n",
    "import matplotlib.pyplot as plt\n",
    "import cv2\n",
    "\n",
    "yolo = YOLO(\"yolov8n.pt\", \"detect\")\n",
    "result = yolo(source=\"ultralytics/assets/bus.jpg\", save=False)\n",
    "\n",
    "%matplotlib inline\n",
    "plt.imshow(result[0].plot()[:,:,::-1])"
   ]
  },
  {
   "cell_type": "code",
   "execution_count": null,
   "metadata": {},
   "outputs": [],
   "source": [
    "# Detect camera\n",
    "\n",
    "from ultralytics import YOLO\n",
    "\n",
    "yolo = YOLO(\"runs/detect/train/weights/best.pt\", \"detect\")\n",
    "result = yolo(source=0, show=True)"
   ]
  }
 ],
 "metadata": {
  "kernelspec": {
   "display_name": "yolov8",
   "language": "python",
   "name": "python3"
  },
  "language_info": {
   "codemirror_mode": {
    "name": "ipython",
    "version": 3
   },
   "file_extension": ".py",
   "mimetype": "text/x-python",
   "name": "python",
   "nbconvert_exporter": "python",
   "pygments_lexer": "ipython3",
   "version": "3.8.18"
  }
 },
 "nbformat": 4,
 "nbformat_minor": 2
}
