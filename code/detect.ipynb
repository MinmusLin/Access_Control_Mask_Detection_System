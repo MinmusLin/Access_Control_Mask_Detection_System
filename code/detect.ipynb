{
 "cells": [
  {
   "cell_type": "code",
   "execution_count": null,
   "metadata": {},
   "outputs": [],
   "source": [
    "# Detect image or video\n",
    "\n",
    "from ultralytics import YOLO\n",
    "import matplotlib.pyplot as plt\n",
    "import cv2\n",
    "\n",
    "file_name = \"bus.jpg\" # File name\n",
    "\n",
    "yolo = YOLO(\"yolov8n.pt\", \"detect\")\n",
    "result = yolo(source = \"ultralytics/assets/\" + file_name, save = False)\n",
    "\n",
    "%matplotlib inline\n",
    "plt.imshow(result[0].plot()[:,:,::-1])"
   ]
  },
  {
   "cell_type": "code",
   "execution_count": null,
   "metadata": {},
   "outputs": [],
   "source": [
    "# Detect camera\n",
    "\n",
    "from ultralytics import YOLO\n",
    "\n",
    "yolo = YOLO(\"runs/detect/train/weights/best.pt\", \"detect\")\n",
    "result = yolo(source = 0, show = True)"
   ]
  }
 ],
 "metadata": {
  "kernelspec": {
   "display_name": "yolov8",
   "language": "python",
   "name": "python3"
  },
  "language_info": {
   "codemirror_mode": {
    "name": "ipython",
    "version": 3
   },
   "file_extension": ".py",
   "mimetype": "text/x-python",
   "name": "python",
   "nbconvert_exporter": "python",
   "pygments_lexer": "ipython3",
   "version": "3.8.18"
  }
 },
 "nbformat": 4,
 "nbformat_minor": 2
}
